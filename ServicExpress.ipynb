{
 "cells": [
  {
   "cell_type": "markdown",
   "id": "f48d1e4f-5bf0-4291-9f10-e4fa452dfee6",
   "metadata": {},
   "source": [
    "1. Import openAI dependences (load with conda install openai)"
   ]
  },
  {
   "cell_type": "markdown",
   "id": "6180968b-5de0-4e1d-91e1-bb0607b62ebe",
   "metadata": {},
   "source": [
    "2. Use the API Key from openAI page"
   ]
  },
  {
   "cell_type": "code",
   "execution_count": 16,
   "id": "6f5e6bba-f9b0-4d27-a0c2-ceede346e2fd",
   "metadata": {
    "scrolled": true
   },
   "outputs": [],
   "source": [
    "\n",
    "import openai\n",
    "import csv\n",
    "from IPython.display import display, HTML\n",
    "import ipywidgets as widgets\n",
    "import json"
   ]
  },
  {
   "cell_type": "code",
   "execution_count": 13,
   "id": "aaa13f6c-6aee-4ddd-92b7-33dbbf66ea3c",
   "metadata": {},
   "outputs": [],
   "source": [
    "#Add our API Key copied from openAI page\n",
    "openai.api_key = \"\" "
   ]
  },
  {
   "cell_type": "markdown",
   "id": "133396b5-0a78-4b9a-a1c0-8c81d7744f9b",
   "metadata": {},
   "source": [
    "3. Make a request"
   ]
  },
  {
   "cell_type": "code",
   "execution_count": 15,
   "id": "f7c1fc76-a9ea-4df9-9324-d83bba8bfc0c",
   "metadata": {
    "scrolled": true
   },
   "outputs": [
    {
     "data": {
      "text/html": [
       "<b>Profesional:</b> Juan Pérez - Electricista<br><b>Cliente:</b> Carlos Sánchez<br><b>Comentario:</b> Excelente trabajo, rápido y eficiente. Sin duda lo volveré a contratar.<br><b>Evaluación:</b> ¡Hola! Según el comentario de Carlos Sánchez, parece estar muy satisfecho con el servicio del electricista Juan Pérez. Se destaca que el trabajo fue excelente, rápido y eficiente, además de mencionar que lo volverá a contratar en el futuro. \n",
       "Ícono de satisfacción del cliente: 😊 (cara feliz)\n",
       "\n",
       "Puntos a destacar:\n",
       "1. Excelente trabajo: Juan Pérez ha cumplido con las expectativas del cliente al ofrecer un servicio de calidad.\n",
       "2. Rápido y eficiente: La rapidez y eficiencia son aspectos positivos que pueden seguir siendo puntos fuertes de Juan Pérez.\n",
       "3. Fidelización del cliente: El comentario indica que Carlos Sánchez tiene intención de volver a contratar a Juan Pérez en el futuro, lo cual es un buen indicador de satisfacción.\n",
       "\n",
       "En resumen, Juan Pérez ha dejado una buena impresión en el<br><b>Ícono:</b> 😊<br><hr>"
      ],
      "text/plain": [
       "<IPython.core.display.HTML object>"
      ]
     },
     "metadata": {},
     "output_type": "display_data"
    },
    {
     "data": {
      "text/html": [
       "<b>Profesional:</b> Ana López - Plomera<br><b>Cliente:</b> María Fernández<br><b>Comentario:</b> El servicio fue bueno, pero podría mejorar la puntualidad.<br><b>Evaluación:</b> ¡Hola! Basándome en el comentario de María Fernández sobre el servicio de la plomera Ana López, parece que está satisfecha con el trabajo realizado, pero menciona que podría mejorar en puntualidad. Por lo tanto, podría asignar un ícono de cara neutra (indiferente) para reflejar que la satisfacción es parcial.\n",
       "\n",
       "Puntos de mejora sugeridos para Ana López:\n",
       "1. Mejorar la puntualidad para brindar un servicio más completo y satisfactorio.\n",
       "2. Comunicar con claridad los horarios de trabajo para que los clientes sepan qué esperar.\n",
       "\n",
       "¡Espero que estos consejos le ayuden a Ana López a mejorar su servicio como plomera! ¡Gracias por confiar en ServiceExpress!<br><b>Ícono:</b> 😐<br><hr>"
      ],
      "text/plain": [
       "<IPython.core.display.HTML object>"
      ]
     },
     "metadata": {},
     "output_type": "display_data"
    },
    {
     "data": {
      "text/html": [
       "<b>Profesional:</b> Pedro Rodríguez - Pintor<br><b>Cliente:</b> Luis Gómez<br><b>Comentario:</b> El trabajo fue aceptable, pero dejó algo de desorden.<br><b>Evaluación:</b> Para el comentario del usuario Luis Gómez sobre el Pintor Pedro Rodríguez, se puede inferir que la satisfacción del cliente es más bien neutra. Aunque el trabajo fue aceptable, el hecho de que haya dejado un poco desorden puede haber sido algo molesto para el cliente.\n",
       "\n",
       "Puntos de mejora:\n",
       "1. Mejorar la limpieza y orden después de completar el trabajo.\n",
       "2. Asegurarse de que la zona de trabajo quede en las condiciones acordadas con el cliente.\n",
       "\n",
       "Ícono asignado: 😐 (Indiferente)<br><b>Ícono:</b> 😞<br><hr>"
      ],
      "text/plain": [
       "<IPython.core.display.HTML object>"
      ]
     },
     "metadata": {},
     "output_type": "display_data"
    },
    {
     "data": {
      "text/html": [
       "<b>Profesional:</b> Laura Martínez - Jardinera<br><b>Cliente:</b> Sofía Ramírez<br><b>Comentario:</b> El jardín quedó hermoso, pero tardó más de lo esperado.<br><b>Evaluación:</b> Basándome en el comentario de la cliente Sofía Ramírez sobre la jardinera Laura Martínez, puedo decir que está satisfecha con el resultado final del trabajo, ya que menciona que el jardín quedó hermoso. Sin embargo, expresa una insatisfacción respecto al tiempo que tardó el trabajo, indicando que fue más de lo esperado.\n",
       "\n",
       "Para mejorar, podría sugerir a Laura Martínez trabajar en optimizar sus tiempos de trabajo para cumplir con las expectativas de los clientes en cuanto a la duración de los proyectos. Esto podría ayudar a evitar la posible frustración que surge cuando las tareas se extienden más de lo previsto.\n",
       "\n",
       "En cuanto al ícono de satisfacción del cliente, asignaría una cara neutra, ya que hay aspectos positivos (el jardín quedó hermoso) pero también un punto de insatisfacción (tardó más de lo esperado<br><b>Ícono:</b> 😞<br><hr>"
      ],
      "text/plain": [
       "<IPython.core.display.HTML object>"
      ]
     },
     "metadata": {},
     "output_type": "display_data"
    },
    {
     "data": {
      "text/html": [
       "<b>Profesional:</b> Carlos López - Carpintero<br><b>Cliente:</b> José Torres<br><b>Comentario:</b> Trabajo impecable y muy profesional. Totalmente recomendado.<br><b>Evaluación:</b> ¡Hola! Parece que José Torres está muy satisfecho con el servicio del carpintero Carlos López. Es genial ver comentarios tan positivos como este. Como punto de mejora, sugiero que Carlos López siga manteniendo esa alta calidad en su trabajo y que continúe brindando un servicio profesional y recomendable.\n",
       "\n",
       "Ícono de satisfacción del cliente: 😊 (cara feliz)<br><b>Ícono:</b> 😞<br><hr>"
      ],
      "text/plain": [
       "<IPython.core.display.HTML object>"
      ]
     },
     "metadata": {},
     "output_type": "display_data"
    },
    {
     "data": {
      "text/html": [
       "<b>Profesional:</b> Lucía Gómez - Albañil<br><b>Cliente:</b> Manuel Cruz<br><b>Comentario:</b> El trabajo estuvo bien, aunque podría haber sido más limpio.<br><b>Evaluación:</b> Según el comentario del cliente Manuel Cruz, parece estar satisfecho en general con el trabajo realizado por la profesional Lucía Gómez, quien es albañil. Sin embargo, señala que podría haber sido más limpio. Por lo tanto, se podría sugerir a Lucía Gómez que preste más atención a la limpieza durante sus trabajos para mejorar la experiencia del cliente.\n",
       "\n",
       "Ícono de satisfacción del cliente: 😊 (satisfecho)<br><b>Ícono:</b> 😞<br><hr>"
      ],
      "text/plain": [
       "<IPython.core.display.HTML object>"
      ]
     },
     "metadata": {},
     "output_type": "display_data"
    },
    {
     "data": {
      "text/html": [
       "<b>Profesional:</b> Marta Sánchez - Electricista<br><b>Cliente:</b> Gloria Núñez<br><b>Comentario:</b> Excelente servicio, solucionó el problema rápidamente.<br><b>Evaluación:</b> Ícono: 😊 (satisfecho)\n",
       "\n",
       "¡Qué bueno que Gloria Núñez haya quedado satisfecha con el servicio de Marta Sánchez! Parece que la electricista resolvió el problema de forma eficiente y rápida. Una posible área de mejora podría ser que Marta brinde algunas recomendaciones de mantenimiento para prevenir futuros problemas eléctricos.<br><b>Ícono:</b> 😊<br><hr>"
      ],
      "text/plain": [
       "<IPython.core.display.HTML object>"
      ]
     },
     "metadata": {},
     "output_type": "display_data"
    },
    {
     "data": {
      "text/html": [
       "<b>Profesional:</b> Raúl Fernández - Plomero<br><b>Cliente:</b> Luis Torres<br><b>Comentario:</b> El trabajo se completó, pero hubo un par de fugas después.<br><b>Evaluación:</b> El comentario del cliente indica que Raúl Fernández, el plomero, completó el trabajo, pero hubo problemas con fugas posteriormente. Recomiendo que Raúl revise nuevamente su trabajo para asegurarse de que no haya más fugas y garantice la satisfacción del cliente.\n",
       "\n",
       "Ícono asignado: 😐 (indiferente)<br><b>Ícono:</b> 😞<br><hr>"
      ],
      "text/plain": [
       "<IPython.core.display.HTML object>"
      ]
     },
     "metadata": {},
     "output_type": "display_data"
    },
    {
     "data": {
      "text/html": [
       "<b>Profesional:</b> Elena García - Pintora<br><b>Cliente:</b> Camila Ortega<br><b>Comentario:</b> La pintura quedó perfecta, aunque hubo algunos retrasos.<br><b>Evaluación:</b> Según el comentario de Camila Ortega sobre el trabajo de la pintora Elena García, parece estar satisfecha con la calidad del trabajo realizado, mencionando que la pintura quedó perfecta. Sin embargo, indica que hubo algunos retrasos, lo cual puede haber causado cierta incomodidad.\n",
       "\n",
       "**Satisfacción del cliente:** Neutral 😐\n",
       "\n",
       "**Puntos de mejora:**\n",
       "1. Mejorar la puntualidad en la entrega del trabajo.\n",
       "2. Comunicar de manera clara cualquier situación que pueda causar retrasos para gestionar las expectativas del cliente.\n",
       "\n",
       "Se sugiere a Elena García trabajar en mejorar la gestión de tiempos y la comunicación con los clientes para garantizar una experiencia satisfactoria en futuros proyectos.<br><b>Ícono:</b> 😞<br><hr>"
      ],
      "text/plain": [
       "<IPython.core.display.HTML object>"
      ]
     },
     "metadata": {},
     "output_type": "display_data"
    },
    {
     "data": {
      "text/html": [
       "<b>Profesional:</b> Miguel Ramírez - Carpintero<br><b>Cliente:</b> Juan Rojas<br><b>Comentario:</b> Trabajo excelente, pero los materiales fueron más caros de lo esperado.<br><b>Evaluación:</b> ¡Hola Juan! Parece que quedaste satisfecho con el trabajo de Miguel Ramírez como carpintero, lo cual es genial. Sin embargo, es entendible que te hayas sentido sorprendido por el costo inesperado de los materiales. \n",
       "\n",
       "Para mejorar, podrías comunicarte con Miguel para que en futuros proyectos te proporcione un desglose detallado de los costos de los materiales antes de comenzar. De esta manera, podrás tener una mejor idea de cuánto vas a gastar. ¡Gracias por tu comentario! 😊<br><b>Ícono:</b> 😊<br><hr>"
      ],
      "text/plain": [
       "<IPython.core.display.HTML object>"
      ]
     },
     "metadata": {},
     "output_type": "display_data"
    }
   ],
   "source": [
    "#Make the context of our prompt envoirement\n",
    "context = \"\"\"\n",
    "Eres asistente en la App ServiceExpress, que conecta usuarios con profesionales de diversos trabajos, como por ejemplo, \n",
    "electricista, plomero, pintor. Tienes que evaluar los comentarios de los usuarios para decir qué tan satisfechos están \n",
    "con ese profesional y proponer puntos de mejora. Además, debes asignar un ícono que refleje la satisfacción del cliente: \n",
    "una cara feliz (satisfecho), neutra (indiferente) o triste (insatisfecho).\n",
    "\"\"\"\n",
    "\n",
    "\n",
    "\n",
    "def evaluar_comentario(profesional, cliente, comentario):\n",
    "    prompt = f\"{context}\\n\\nProfesional: {profesional}\\nCliente: {cliente}\\nComentario: \\\"{comentario}\\\"\"\n",
    "    \n",
    "  \n",
    "    try:\n",
    "        response = openai.ChatCompletion.create(\n",
    "            model='gpt-3.5-turbo',\n",
    "            messages=[\n",
    "                {\"role\": \"system\", \"content\": context},\n",
    "                {\"role\": \"user\", \"content\": prompt}\n",
    "            ],\n",
    "            max_tokens=200\n",
    "        )\n",
    "        \n",
    "        message = response.choices[0]['message']['content']\n",
    "        \n",
    "       \n",
    "        icono = \"😊\" if \"excelente\" in comentario.lower() else \"😐\" if \"bueno\" in comentario.lower() else \"😞\"\n",
    "        \n",
    "        return message, icono\n",
    "    \n",
    "    except openai.error.OpenAIError as e:\n",
    "        return f\"Error al procesar el comentario: {e}\", \"❓\"\n",
    "    \n",
    "    except Exception as e:\n",
    "        return f\"Error general: {e}\", \"❓\"\n",
    "\n",
    "\n",
    "def procesar_comentarios_json(json_file_path):\n",
    "    with open(json_file_path, 'r', encoding='utf-8') as file:\n",
    "        comentarios = json.load(file)\n",
    "    \n",
    "    resultados = []\n",
    "    \n",
    "    for comentario in comentarios:\n",
    "        profesional = comentario['profesional']\n",
    "        cliente = comentario['cliente']\n",
    "        texto_comentario = comentario['comentario']\n",
    "        \n",
    "        evaluacion, icono = evaluar_comentario(profesional, cliente, texto_comentario)\n",
    "        resultados.append([profesional, cliente, texto_comentario, evaluacion, icono])\n",
    "    \n",
    "  \n",
    "    with open('resultados_evaluacion.csv', 'w', newline='', encoding='utf-8') as file:\n",
    "        writer = csv.writer(file)\n",
    "        writer.writerow(['Profesional', 'Cliente', 'Comentario', 'Evaluación', 'Ícono'])\n",
    "        writer.writerows(resultados)\n",
    "    \n",
    "   \n",
    "    for resultado in resultados:\n",
    "        display(HTML(f\"<b>Profesional:</b> {resultado[0]}<br><b>Cliente:</b> {resultado[1]}<br><b>Comentario:</b> {resultado[2]}<br><b>Evaluación:</b> {resultado[3]}<br><b>Ícono:</b> {resultado[4]}<br><hr>\"))\n",
    "\n",
    "\n",
    "json_file_path = 'comentarios.json'\n",
    "procesar_comentarios_json(json_file_path)"
   ]
  },
  {
   "cell_type": "code",
   "execution_count": null,
   "id": "72a6ddf2-d31e-4693-abaf-dbbe0e9cac16",
   "metadata": {},
   "outputs": [],
   "source": []
  }
 ],
 "metadata": {
  "kernelspec": {
   "display_name": "Python 3 (ipykernel)",
   "language": "python",
   "name": "python3"
  },
  "language_info": {
   "codemirror_mode": {
    "name": "ipython",
    "version": 3
   },
   "file_extension": ".py",
   "mimetype": "text/x-python",
   "name": "python",
   "nbconvert_exporter": "python",
   "pygments_lexer": "ipython3",
   "version": "3.12.4"
  }
 },
 "nbformat": 4,
 "nbformat_minor": 5
}
